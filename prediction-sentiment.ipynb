{
 "cells": [
  {
   "cell_type": "markdown",
   "metadata": {},
   "source": [
    "# Data Labeling Classification"
   ]
  },
  {
   "cell_type": "markdown",
   "metadata": {},
   "source": [
    "## Import Library"
   ]
  },
  {
   "cell_type": "code",
   "execution_count": 54,
   "metadata": {},
   "outputs": [],
   "source": [
    "from tqdm import tqdm\n",
    "import pandas as pd\n",
    "import transformers\n",
    "from transformers import pipeline\n",
    "import matplotlib.pyplot as plt\n",
    "import ast"
   ]
  },
  {
   "cell_type": "markdown",
   "metadata": {},
   "source": [
    "## Data"
   ]
  },
  {
   "cell_type": "markdown",
   "metadata": {},
   "source": [
    "### Load CSV"
   ]
  },
  {
   "cell_type": "code",
   "execution_count": 56,
   "metadata": {},
   "outputs": [
    {
     "data": {
      "text/html": [
       "<div>\n",
       "<style scoped>\n",
       "    .dataframe tbody tr th:only-of-type {\n",
       "        vertical-align: middle;\n",
       "    }\n",
       "\n",
       "    .dataframe tbody tr th {\n",
       "        vertical-align: top;\n",
       "    }\n",
       "\n",
       "    .dataframe thead th {\n",
       "        text-align: right;\n",
       "    }\n",
       "</style>\n",
       "<table border=\"1\" class=\"dataframe\">\n",
       "  <thead>\n",
       "    <tr style=\"text-align: right;\">\n",
       "      <th></th>\n",
       "      <th>comment</th>\n",
       "      <th>cleaned_comment</th>\n",
       "      <th>tokenized_comment</th>\n",
       "      <th>stopwords_comment</th>\n",
       "      <th>stemmed_comment</th>\n",
       "      <th>cleaned_stemmed</th>\n",
       "    </tr>\n",
       "  </thead>\n",
       "  <tbody>\n",
       "    <tr>\n",
       "      <th>0</th>\n",
       "      <td>Tukang korup akhirnya kepancing wkwkw kasian k...</td>\n",
       "      <td>tukang korup akhirnya kepancing wkwkw kasian k...</td>\n",
       "      <td>['tukang', 'korup', 'akhirnya', 'kepancing', '...</td>\n",
       "      <td>['tukang', 'korup', 'akhirnya', 'kepancing', '...</td>\n",
       "      <td>['tukang', 'korup', 'akhir', 'pancing', 'wkwkw...</td>\n",
       "      <td>tukang korup akhir pancing wkwkw kasi keluarga...</td>\n",
       "    </tr>\n",
       "    <tr>\n",
       "      <th>1</th>\n",
       "      <td>Bodohnya ini semua yg hadir tepuk tangan untuk...</td>\n",
       "      <td>bodohnya ini semua yg hadir tepuk tangan untuk...</td>\n",
       "      <td>['bodohnya', 'ini', 'semua', 'yg', 'hadir', 't...</td>\n",
       "      <td>['bodohnya', 'semua', 'yg', 'hadir', 'tepuk', ...</td>\n",
       "      <td>['bodoh', 'semua', 'yg', 'hadir', 'tepuk', 'ta...</td>\n",
       "      <td>bodoh semua yg hadir tepuk tangan roki</td>\n",
       "    </tr>\n",
       "    <tr>\n",
       "      <th>2</th>\n",
       "      <td>Roki ini gaklama lagi\\nJadi penhianat</td>\n",
       "      <td>roki ini gaklama lagi jadi penhianat</td>\n",
       "      <td>['roki', 'ini', 'gaklama', 'lagi', 'jadi', 'pe...</td>\n",
       "      <td>['roki', 'gaklama', 'jadi', 'penhianat']</td>\n",
       "      <td>['roki', 'gaklama', 'jadi', 'penhianat']</td>\n",
       "      <td>roki gaklama jadi penhianat</td>\n",
       "    </tr>\n",
       "    <tr>\n",
       "      <th>3</th>\n",
       "      <td>Matador vs banteng dan bantengya silvester 😂</td>\n",
       "      <td>matador vs banteng dan bantengya silvester</td>\n",
       "      <td>['matador', 'vs', 'banteng', 'dan', 'bantengya...</td>\n",
       "      <td>['matador', 'vs', 'banteng', 'bantengya', 'sil...</td>\n",
       "      <td>['matador', 'vs', 'banteng', 'bantengya', 'sil...</td>\n",
       "      <td>matador vs banteng bantengya silvester</td>\n",
       "    </tr>\n",
       "    <tr>\n",
       "      <th>4</th>\n",
       "      <td>Selverter itu jelas kurang wawasan dan ilmu di...</td>\n",
       "      <td>selverter itu jelas kurang wawasan dan ilmu di...</td>\n",
       "      <td>['selverter', 'itu', 'jelas', 'kurang', 'wawas...</td>\n",
       "      <td>['selverter', 'jelas', 'kurang', 'wawasan', 'i...</td>\n",
       "      <td>['selverter', 'jelas', 'kurang', 'wawas', 'ilm...</td>\n",
       "      <td>selverter jelas kurang wawas ilmu bawah jauh r...</td>\n",
       "    </tr>\n",
       "  </tbody>\n",
       "</table>\n",
       "</div>"
      ],
      "text/plain": [
       "                                             comment  \\\n",
       "0  Tukang korup akhirnya kepancing wkwkw kasian k...   \n",
       "1  Bodohnya ini semua yg hadir tepuk tangan untuk...   \n",
       "2              Roki ini gaklama lagi\\nJadi penhianat   \n",
       "3       Matador vs banteng dan bantengya silvester 😂   \n",
       "4  Selverter itu jelas kurang wawasan dan ilmu di...   \n",
       "\n",
       "                                     cleaned_comment  \\\n",
       "0  tukang korup akhirnya kepancing wkwkw kasian k...   \n",
       "1  bodohnya ini semua yg hadir tepuk tangan untuk...   \n",
       "2               roki ini gaklama lagi jadi penhianat   \n",
       "3         matador vs banteng dan bantengya silvester   \n",
       "4  selverter itu jelas kurang wawasan dan ilmu di...   \n",
       "\n",
       "                                   tokenized_comment  \\\n",
       "0  ['tukang', 'korup', 'akhirnya', 'kepancing', '...   \n",
       "1  ['bodohnya', 'ini', 'semua', 'yg', 'hadir', 't...   \n",
       "2  ['roki', 'ini', 'gaklama', 'lagi', 'jadi', 'pe...   \n",
       "3  ['matador', 'vs', 'banteng', 'dan', 'bantengya...   \n",
       "4  ['selverter', 'itu', 'jelas', 'kurang', 'wawas...   \n",
       "\n",
       "                                   stopwords_comment  \\\n",
       "0  ['tukang', 'korup', 'akhirnya', 'kepancing', '...   \n",
       "1  ['bodohnya', 'semua', 'yg', 'hadir', 'tepuk', ...   \n",
       "2           ['roki', 'gaklama', 'jadi', 'penhianat']   \n",
       "3  ['matador', 'vs', 'banteng', 'bantengya', 'sil...   \n",
       "4  ['selverter', 'jelas', 'kurang', 'wawasan', 'i...   \n",
       "\n",
       "                                     stemmed_comment  \\\n",
       "0  ['tukang', 'korup', 'akhir', 'pancing', 'wkwkw...   \n",
       "1  ['bodoh', 'semua', 'yg', 'hadir', 'tepuk', 'ta...   \n",
       "2           ['roki', 'gaklama', 'jadi', 'penhianat']   \n",
       "3  ['matador', 'vs', 'banteng', 'bantengya', 'sil...   \n",
       "4  ['selverter', 'jelas', 'kurang', 'wawas', 'ilm...   \n",
       "\n",
       "                                     cleaned_stemmed  \n",
       "0  tukang korup akhir pancing wkwkw kasi keluarga...  \n",
       "1             bodoh semua yg hadir tepuk tangan roki  \n",
       "2                        roki gaklama jadi penhianat  \n",
       "3             matador vs banteng bantengya silvester  \n",
       "4  selverter jelas kurang wawas ilmu bawah jauh r...  "
      ]
     },
     "execution_count": 56,
     "metadata": {},
     "output_type": "execute_result"
    }
   ],
   "source": [
    "youtube_dataset = pd.read_csv(\"./data/youtube-comment-cleaned.csv\")\n",
    "youtube_dataset.head()"
   ]
  },
  {
   "cell_type": "markdown",
   "metadata": {},
   "source": [
    "### Cleaning Confirmation"
   ]
  },
  {
   "cell_type": "code",
   "execution_count": 58,
   "metadata": {},
   "outputs": [
    {
     "data": {
      "text/plain": [
       "comment              0\n",
       "cleaned_comment      0\n",
       "tokenized_comment    0\n",
       "stopwords_comment    0\n",
       "stemmed_comment      0\n",
       "cleaned_stemmed      0\n",
       "dtype: int64"
      ]
     },
     "execution_count": 58,
     "metadata": {},
     "output_type": "execute_result"
    }
   ],
   "source": [
    "youtube_dataset = youtube_dataset.dropna()\n",
    "youtube_dataset.isnull().sum()"
   ]
  },
  {
   "cell_type": "markdown",
   "metadata": {},
   "source": [
    "## Classification Using Bigger Model"
   ]
  },
  {
   "cell_type": "markdown",
   "metadata": {},
   "source": [
    "### Define Variable and Function"
   ]
  },
  {
   "cell_type": "code",
   "execution_count": 55,
   "metadata": {},
   "outputs": [
    {
     "name": "stderr",
     "output_type": "stream",
     "text": [
      "d:\\Kuliah\\Software\\Visual Studio Code\\Python\\Semester_5\\Praktik_Aplikasi_Web\\Praktikum_08\\youtube-sentiment\\.venv\\Lib\\site-packages\\transformers\\pipelines\\text_classification.py:104: UserWarning: `return_all_scores` is now deprecated,  if want a similar functionality use `top_k=None` instead of `return_all_scores=True` or `top_k=1` instead of `return_all_scores=False`.\n",
      "  warnings.warn(\n"
     ]
    }
   ],
   "source": [
    "distilled_student_sentiment_classifier = pipeline(\n",
    "    model=\"lxyuan/distilbert-base-multilingual-cased-sentiments-student\",\n",
    "    return_all_scores=True,\n",
    "    truncation=True\n",
    ")\n",
    "\n",
    "def sentiment_analysis(text):\n",
    "    result = distilled_student_sentiment_classifier(text)\n",
    "    highest_score_label = max(result[0], key=lambda x: x['score'])['label']\n",
    "    return highest_score_label"
   ]
  },
  {
   "cell_type": "markdown",
   "metadata": {},
   "source": [
    "### Apply Function"
   ]
  },
  {
   "cell_type": "code",
   "execution_count": 59,
   "metadata": {},
   "outputs": [
    {
     "name": "stderr",
     "output_type": "stream",
     "text": [
      "100%|██████████| 20655/20655 [14:25<00:00, 23.87it/s]\n"
     ]
    },
    {
     "data": {
      "text/html": [
       "<div>\n",
       "<style scoped>\n",
       "    .dataframe tbody tr th:only-of-type {\n",
       "        vertical-align: middle;\n",
       "    }\n",
       "\n",
       "    .dataframe tbody tr th {\n",
       "        vertical-align: top;\n",
       "    }\n",
       "\n",
       "    .dataframe thead th {\n",
       "        text-align: right;\n",
       "    }\n",
       "</style>\n",
       "<table border=\"1\" class=\"dataframe\">\n",
       "  <thead>\n",
       "    <tr style=\"text-align: right;\">\n",
       "      <th></th>\n",
       "      <th>comment</th>\n",
       "      <th>cleaned_comment</th>\n",
       "      <th>tokenized_comment</th>\n",
       "      <th>stopwords_comment</th>\n",
       "      <th>stemmed_comment</th>\n",
       "      <th>cleaned_stemmed</th>\n",
       "      <th>sentiment_prediction</th>\n",
       "    </tr>\n",
       "  </thead>\n",
       "  <tbody>\n",
       "    <tr>\n",
       "      <th>0</th>\n",
       "      <td>Tukang korup akhirnya kepancing wkwkw kasian k...</td>\n",
       "      <td>tukang korup akhirnya kepancing wkwkw kasian k...</td>\n",
       "      <td>['tukang', 'korup', 'akhirnya', 'kepancing', '...</td>\n",
       "      <td>['tukang', 'korup', 'akhirnya', 'kepancing', '...</td>\n",
       "      <td>['tukang', 'korup', 'akhir', 'pancing', 'wkwkw...</td>\n",
       "      <td>tukang korup akhir pancing wkwkw kasi keluarga...</td>\n",
       "      <td>negative</td>\n",
       "    </tr>\n",
       "    <tr>\n",
       "      <th>1</th>\n",
       "      <td>Bodohnya ini semua yg hadir tepuk tangan untuk...</td>\n",
       "      <td>bodohnya ini semua yg hadir tepuk tangan untuk...</td>\n",
       "      <td>['bodohnya', 'ini', 'semua', 'yg', 'hadir', 't...</td>\n",
       "      <td>['bodohnya', 'semua', 'yg', 'hadir', 'tepuk', ...</td>\n",
       "      <td>['bodoh', 'semua', 'yg', 'hadir', 'tepuk', 'ta...</td>\n",
       "      <td>bodoh semua yg hadir tepuk tangan roki</td>\n",
       "      <td>negative</td>\n",
       "    </tr>\n",
       "    <tr>\n",
       "      <th>2</th>\n",
       "      <td>Roki ini gaklama lagi\\nJadi penhianat</td>\n",
       "      <td>roki ini gaklama lagi jadi penhianat</td>\n",
       "      <td>['roki', 'ini', 'gaklama', 'lagi', 'jadi', 'pe...</td>\n",
       "      <td>['roki', 'gaklama', 'jadi', 'penhianat']</td>\n",
       "      <td>['roki', 'gaklama', 'jadi', 'penhianat']</td>\n",
       "      <td>roki gaklama jadi penhianat</td>\n",
       "      <td>negative</td>\n",
       "    </tr>\n",
       "    <tr>\n",
       "      <th>3</th>\n",
       "      <td>Matador vs banteng dan bantengya silvester 😂</td>\n",
       "      <td>matador vs banteng dan bantengya silvester</td>\n",
       "      <td>['matador', 'vs', 'banteng', 'dan', 'bantengya...</td>\n",
       "      <td>['matador', 'vs', 'banteng', 'bantengya', 'sil...</td>\n",
       "      <td>['matador', 'vs', 'banteng', 'bantengya', 'sil...</td>\n",
       "      <td>matador vs banteng bantengya silvester</td>\n",
       "      <td>positive</td>\n",
       "    </tr>\n",
       "    <tr>\n",
       "      <th>4</th>\n",
       "      <td>Selverter itu jelas kurang wawasan dan ilmu di...</td>\n",
       "      <td>selverter itu jelas kurang wawasan dan ilmu di...</td>\n",
       "      <td>['selverter', 'itu', 'jelas', 'kurang', 'wawas...</td>\n",
       "      <td>['selverter', 'jelas', 'kurang', 'wawasan', 'i...</td>\n",
       "      <td>['selverter', 'jelas', 'kurang', 'wawas', 'ilm...</td>\n",
       "      <td>selverter jelas kurang wawas ilmu bawah jauh r...</td>\n",
       "      <td>negative</td>\n",
       "    </tr>\n",
       "  </tbody>\n",
       "</table>\n",
       "</div>"
      ],
      "text/plain": [
       "                                             comment  \\\n",
       "0  Tukang korup akhirnya kepancing wkwkw kasian k...   \n",
       "1  Bodohnya ini semua yg hadir tepuk tangan untuk...   \n",
       "2              Roki ini gaklama lagi\\nJadi penhianat   \n",
       "3       Matador vs banteng dan bantengya silvester 😂   \n",
       "4  Selverter itu jelas kurang wawasan dan ilmu di...   \n",
       "\n",
       "                                     cleaned_comment  \\\n",
       "0  tukang korup akhirnya kepancing wkwkw kasian k...   \n",
       "1  bodohnya ini semua yg hadir tepuk tangan untuk...   \n",
       "2               roki ini gaklama lagi jadi penhianat   \n",
       "3         matador vs banteng dan bantengya silvester   \n",
       "4  selverter itu jelas kurang wawasan dan ilmu di...   \n",
       "\n",
       "                                   tokenized_comment  \\\n",
       "0  ['tukang', 'korup', 'akhirnya', 'kepancing', '...   \n",
       "1  ['bodohnya', 'ini', 'semua', 'yg', 'hadir', 't...   \n",
       "2  ['roki', 'ini', 'gaklama', 'lagi', 'jadi', 'pe...   \n",
       "3  ['matador', 'vs', 'banteng', 'dan', 'bantengya...   \n",
       "4  ['selverter', 'itu', 'jelas', 'kurang', 'wawas...   \n",
       "\n",
       "                                   stopwords_comment  \\\n",
       "0  ['tukang', 'korup', 'akhirnya', 'kepancing', '...   \n",
       "1  ['bodohnya', 'semua', 'yg', 'hadir', 'tepuk', ...   \n",
       "2           ['roki', 'gaklama', 'jadi', 'penhianat']   \n",
       "3  ['matador', 'vs', 'banteng', 'bantengya', 'sil...   \n",
       "4  ['selverter', 'jelas', 'kurang', 'wawasan', 'i...   \n",
       "\n",
       "                                     stemmed_comment  \\\n",
       "0  ['tukang', 'korup', 'akhir', 'pancing', 'wkwkw...   \n",
       "1  ['bodoh', 'semua', 'yg', 'hadir', 'tepuk', 'ta...   \n",
       "2           ['roki', 'gaklama', 'jadi', 'penhianat']   \n",
       "3  ['matador', 'vs', 'banteng', 'bantengya', 'sil...   \n",
       "4  ['selverter', 'jelas', 'kurang', 'wawas', 'ilm...   \n",
       "\n",
       "                                     cleaned_stemmed sentiment_prediction  \n",
       "0  tukang korup akhir pancing wkwkw kasi keluarga...             negative  \n",
       "1             bodoh semua yg hadir tepuk tangan roki             negative  \n",
       "2                        roki gaklama jadi penhianat             negative  \n",
       "3             matador vs banteng bantengya silvester             positive  \n",
       "4  selverter jelas kurang wawas ilmu bawah jauh r...             negative  "
      ]
     },
     "execution_count": 59,
     "metadata": {},
     "output_type": "execute_result"
    }
   ],
   "source": [
    "youtube_dataset[\"sentiment_prediction\"] = [sentiment_analysis(comment) for comment in tqdm(youtube_dataset['cleaned_stemmed'])]\n",
    "\n",
    "youtube_dataset.head()"
   ]
  },
  {
   "cell_type": "markdown",
   "metadata": {},
   "source": [
    "## Save Classification CSV"
   ]
  },
  {
   "cell_type": "code",
   "execution_count": 62,
   "metadata": {},
   "outputs": [
    {
     "data": {
      "text/html": [
       "<div>\n",
       "<style scoped>\n",
       "    .dataframe tbody tr th:only-of-type {\n",
       "        vertical-align: middle;\n",
       "    }\n",
       "\n",
       "    .dataframe tbody tr th {\n",
       "        vertical-align: top;\n",
       "    }\n",
       "\n",
       "    .dataframe thead th {\n",
       "        text-align: right;\n",
       "    }\n",
       "</style>\n",
       "<table border=\"1\" class=\"dataframe\">\n",
       "  <thead>\n",
       "    <tr style=\"text-align: right;\">\n",
       "      <th></th>\n",
       "      <th>comment</th>\n",
       "      <th>cleaned_comment</th>\n",
       "      <th>tokenized_comment</th>\n",
       "      <th>stopwords_comment</th>\n",
       "      <th>stemmed_comment</th>\n",
       "      <th>cleaned_stemmed</th>\n",
       "      <th>sentiment_prediction</th>\n",
       "    </tr>\n",
       "  </thead>\n",
       "  <tbody>\n",
       "    <tr>\n",
       "      <th>0</th>\n",
       "      <td>Tukang korup akhirnya kepancing wkwkw kasian k...</td>\n",
       "      <td>tukang korup akhirnya kepancing wkwkw kasian k...</td>\n",
       "      <td>['tukang', 'korup', 'akhirnya', 'kepancing', '...</td>\n",
       "      <td>['tukang', 'korup', 'akhirnya', 'kepancing', '...</td>\n",
       "      <td>['tukang', 'korup', 'akhir', 'pancing', 'wkwkw...</td>\n",
       "      <td>tukang korup akhir pancing wkwkw kasi keluarga...</td>\n",
       "      <td>negative</td>\n",
       "    </tr>\n",
       "    <tr>\n",
       "      <th>1</th>\n",
       "      <td>Bodohnya ini semua yg hadir tepuk tangan untuk...</td>\n",
       "      <td>bodohnya ini semua yg hadir tepuk tangan untuk...</td>\n",
       "      <td>['bodohnya', 'ini', 'semua', 'yg', 'hadir', 't...</td>\n",
       "      <td>['bodohnya', 'semua', 'yg', 'hadir', 'tepuk', ...</td>\n",
       "      <td>['bodoh', 'semua', 'yg', 'hadir', 'tepuk', 'ta...</td>\n",
       "      <td>bodoh semua yg hadir tepuk tangan roki</td>\n",
       "      <td>negative</td>\n",
       "    </tr>\n",
       "    <tr>\n",
       "      <th>2</th>\n",
       "      <td>Roki ini gaklama lagi\\nJadi penhianat</td>\n",
       "      <td>roki ini gaklama lagi jadi penhianat</td>\n",
       "      <td>['roki', 'ini', 'gaklama', 'lagi', 'jadi', 'pe...</td>\n",
       "      <td>['roki', 'gaklama', 'jadi', 'penhianat']</td>\n",
       "      <td>['roki', 'gaklama', 'jadi', 'penhianat']</td>\n",
       "      <td>roki gaklama jadi penhianat</td>\n",
       "      <td>negative</td>\n",
       "    </tr>\n",
       "    <tr>\n",
       "      <th>3</th>\n",
       "      <td>Matador vs banteng dan bantengya silvester 😂</td>\n",
       "      <td>matador vs banteng dan bantengya silvester</td>\n",
       "      <td>['matador', 'vs', 'banteng', 'dan', 'bantengya...</td>\n",
       "      <td>['matador', 'vs', 'banteng', 'bantengya', 'sil...</td>\n",
       "      <td>['matador', 'vs', 'banteng', 'bantengya', 'sil...</td>\n",
       "      <td>matador vs banteng bantengya silvester</td>\n",
       "      <td>positive</td>\n",
       "    </tr>\n",
       "    <tr>\n",
       "      <th>4</th>\n",
       "      <td>Selverter itu jelas kurang wawasan dan ilmu di...</td>\n",
       "      <td>selverter itu jelas kurang wawasan dan ilmu di...</td>\n",
       "      <td>['selverter', 'itu', 'jelas', 'kurang', 'wawas...</td>\n",
       "      <td>['selverter', 'jelas', 'kurang', 'wawasan', 'i...</td>\n",
       "      <td>['selverter', 'jelas', 'kurang', 'wawas', 'ilm...</td>\n",
       "      <td>selverter jelas kurang wawas ilmu bawah jauh r...</td>\n",
       "      <td>negative</td>\n",
       "    </tr>\n",
       "  </tbody>\n",
       "</table>\n",
       "</div>"
      ],
      "text/plain": [
       "                                             comment  \\\n",
       "0  Tukang korup akhirnya kepancing wkwkw kasian k...   \n",
       "1  Bodohnya ini semua yg hadir tepuk tangan untuk...   \n",
       "2              Roki ini gaklama lagi\\nJadi penhianat   \n",
       "3       Matador vs banteng dan bantengya silvester 😂   \n",
       "4  Selverter itu jelas kurang wawasan dan ilmu di...   \n",
       "\n",
       "                                     cleaned_comment  \\\n",
       "0  tukang korup akhirnya kepancing wkwkw kasian k...   \n",
       "1  bodohnya ini semua yg hadir tepuk tangan untuk...   \n",
       "2               roki ini gaklama lagi jadi penhianat   \n",
       "3         matador vs banteng dan bantengya silvester   \n",
       "4  selverter itu jelas kurang wawasan dan ilmu di...   \n",
       "\n",
       "                                   tokenized_comment  \\\n",
       "0  ['tukang', 'korup', 'akhirnya', 'kepancing', '...   \n",
       "1  ['bodohnya', 'ini', 'semua', 'yg', 'hadir', 't...   \n",
       "2  ['roki', 'ini', 'gaklama', 'lagi', 'jadi', 'pe...   \n",
       "3  ['matador', 'vs', 'banteng', 'dan', 'bantengya...   \n",
       "4  ['selverter', 'itu', 'jelas', 'kurang', 'wawas...   \n",
       "\n",
       "                                   stopwords_comment  \\\n",
       "0  ['tukang', 'korup', 'akhirnya', 'kepancing', '...   \n",
       "1  ['bodohnya', 'semua', 'yg', 'hadir', 'tepuk', ...   \n",
       "2           ['roki', 'gaklama', 'jadi', 'penhianat']   \n",
       "3  ['matador', 'vs', 'banteng', 'bantengya', 'sil...   \n",
       "4  ['selverter', 'jelas', 'kurang', 'wawasan', 'i...   \n",
       "\n",
       "                                     stemmed_comment  \\\n",
       "0  ['tukang', 'korup', 'akhir', 'pancing', 'wkwkw...   \n",
       "1  ['bodoh', 'semua', 'yg', 'hadir', 'tepuk', 'ta...   \n",
       "2           ['roki', 'gaklama', 'jadi', 'penhianat']   \n",
       "3  ['matador', 'vs', 'banteng', 'bantengya', 'sil...   \n",
       "4  ['selverter', 'jelas', 'kurang', 'wawas', 'ilm...   \n",
       "\n",
       "                                     cleaned_stemmed sentiment_prediction  \n",
       "0  tukang korup akhir pancing wkwkw kasi keluarga...             negative  \n",
       "1             bodoh semua yg hadir tepuk tangan roki             negative  \n",
       "2                        roki gaklama jadi penhianat             negative  \n",
       "3             matador vs banteng bantengya silvester             positive  \n",
       "4  selverter jelas kurang wawas ilmu bawah jauh r...             negative  "
      ]
     },
     "execution_count": 62,
     "metadata": {},
     "output_type": "execute_result"
    }
   ],
   "source": [
    "youtube_dataset.to_csv(\"./data/youtube-comment-sentiment.csv\", index=False)\n",
    "youtube_dataset.head()"
   ]
  },
  {
   "cell_type": "markdown",
   "metadata": {},
   "source": [
    "### Cleaning Data"
   ]
  },
  {
   "cell_type": "code",
   "execution_count": 63,
   "metadata": {},
   "outputs": [
    {
     "data": {
      "text/html": [
       "<div>\n",
       "<style scoped>\n",
       "    .dataframe tbody tr th:only-of-type {\n",
       "        vertical-align: middle;\n",
       "    }\n",
       "\n",
       "    .dataframe tbody tr th {\n",
       "        vertical-align: top;\n",
       "    }\n",
       "\n",
       "    .dataframe thead th {\n",
       "        text-align: right;\n",
       "    }\n",
       "</style>\n",
       "<table border=\"1\" class=\"dataframe\">\n",
       "  <thead>\n",
       "    <tr style=\"text-align: right;\">\n",
       "      <th></th>\n",
       "      <th>cleaned_stemmed</th>\n",
       "      <th>sentiment_prediction</th>\n",
       "    </tr>\n",
       "  </thead>\n",
       "  <tbody>\n",
       "    <tr>\n",
       "      <th>0</th>\n",
       "      <td>tukang korup akhir pancing wkwkw kasi keluarga...</td>\n",
       "      <td>negative</td>\n",
       "    </tr>\n",
       "    <tr>\n",
       "      <th>1</th>\n",
       "      <td>bodoh semua yg hadir tepuk tangan roki</td>\n",
       "      <td>negative</td>\n",
       "    </tr>\n",
       "    <tr>\n",
       "      <th>2</th>\n",
       "      <td>roki gaklama jadi penhianat</td>\n",
       "      <td>negative</td>\n",
       "    </tr>\n",
       "    <tr>\n",
       "      <th>3</th>\n",
       "      <td>matador vs banteng bantengya silvester</td>\n",
       "      <td>positive</td>\n",
       "    </tr>\n",
       "    <tr>\n",
       "      <th>4</th>\n",
       "      <td>selverter jelas kurang wawas ilmu bawah jauh r...</td>\n",
       "      <td>negative</td>\n",
       "    </tr>\n",
       "  </tbody>\n",
       "</table>\n",
       "</div>"
      ],
      "text/plain": [
       "                                     cleaned_stemmed sentiment_prediction\n",
       "0  tukang korup akhir pancing wkwkw kasi keluarga...             negative\n",
       "1             bodoh semua yg hadir tepuk tangan roki             negative\n",
       "2                        roki gaklama jadi penhianat             negative\n",
       "3             matador vs banteng bantengya silvester             positive\n",
       "4  selverter jelas kurang wawas ilmu bawah jauh r...             negative"
      ]
     },
     "execution_count": 63,
     "metadata": {},
     "output_type": "execute_result"
    }
   ],
   "source": [
    "youtube_dataset_clean = youtube_dataset[[\"cleaned_stemmed\", \"sentiment_prediction\"]]\n",
    "youtube_dataset_clean.head()"
   ]
  },
  {
   "cell_type": "code",
   "execution_count": 64,
   "metadata": {},
   "outputs": [],
   "source": [
    "youtube_dataset_clean.to_csv(\"./data/youtube-comment-sentiment-cleaned.csv\", index=False)"
   ]
  },
  {
   "cell_type": "markdown",
   "metadata": {},
   "source": [
    "### Balance Data"
   ]
  },
  {
   "cell_type": "code",
   "execution_count": 67,
   "metadata": {},
   "outputs": [
    {
     "name": "stdout",
     "output_type": "stream",
     "text": [
      "sentiment_prediction\n",
      "negative    444\n",
      "neutral     444\n",
      "positive    444\n",
      "Name: count, dtype: int64\n"
     ]
    },
    {
     "name": "stderr",
     "output_type": "stream",
     "text": [
      "C:\\Users\\ACER\\AppData\\Local\\Temp\\ipykernel_34340\\3225034882.py:4: DeprecationWarning: DataFrameGroupBy.apply operated on the grouping columns. This behavior is deprecated, and in a future version of pandas the grouping columns will be excluded from the operation. Either pass `include_groups=False` to exclude the groupings or explicitly select the grouping columns after groupby to silence this warning.\n",
      "  dataset_balanced = youtube_dataset_clean.groupby('sentiment_prediction').apply(lambda x: x.sample(min_count)).reset_index(drop=True)\n"
     ]
    }
   ],
   "source": [
    "check_sentiment = youtube_dataset_clean[\"sentiment_prediction\"].value_counts()\n",
    "min_count = check_sentiment.min()\n",
    "dataset_balanced = youtube_dataset_clean.groupby('sentiment_prediction').apply(lambda x: x.sample(min_count)).reset_index(drop=True)\n",
    "print(dataset_balanced[\"sentiment_prediction\"].value_counts())"
   ]
  },
  {
   "cell_type": "code",
   "execution_count": 68,
   "metadata": {},
   "outputs": [],
   "source": [
    "dataset_balanced.to_csv(\"./data/youtube-comment-sentiment-balanced.csv\", index=False)"
   ]
  }
 ],
 "metadata": {
  "kernelspec": {
   "display_name": ".venv",
   "language": "python",
   "name": "python3"
  },
  "language_info": {
   "codemirror_mode": {
    "name": "ipython",
    "version": 3
   },
   "file_extension": ".py",
   "mimetype": "text/x-python",
   "name": "python",
   "nbconvert_exporter": "python",
   "pygments_lexer": "ipython3",
   "version": "3.12.5"
  }
 },
 "nbformat": 4,
 "nbformat_minor": 2
}
